{
 "cells": [
  {
   "cell_type": "markdown",
   "metadata": {},
   "source": [
    "# Modeling Protest Trends in South America\n",
    "This notebook is modeling of the protest data for the South American region. The first section will focus primarily on predicting whether or not a protest received accomodations from the government leadership. This modeling will also look at what the protest outcomes ultimately were. While binary classification was assessed on all state response columns, meaning if accomodation was found in any column in a given row it was counted, multiclass models only assess one column of state responses. This is due to time and data constraints."
   ]
  },
  {
   "cell_type": "code",
   "execution_count": 3,
   "metadata": {},
   "outputs": [],
   "source": [
    "import pandas as pd\n",
    "import numpy as np\n",
    "import matplotlib.pyplot as plt\n",
    "import seaborn as sns\n",
    "import classification as cl\n",
    "\n",
    "from sklearn.model_selection import train_test_split, GridSearchCV, cross_val_score, StratifiedKFold\n",
    "from sklearn.linear_model import LogisticRegression\n",
    "from sklearn.metrics import confusion_matrix\n",
    "from sklearn.neighbors import KNeighborsClassifier\n",
    "from sklearn.tree import DecisionTreeClassifier\n",
    "from sklearn.ensemble import RandomForestClassifier, BaggingClassifier, AdaBoostClassifier\n",
    "from sklearn.svm import SVC\n",
    "from sklearn.pipeline import Pipeline\n",
    "from sklearn.decomposition import PCA"
   ]
  },
  {
   "cell_type": "code",
   "execution_count": 4,
   "metadata": {},
   "outputs": [
    {
     "data": {
      "text/html": [
       "<div>\n",
       "<style scoped>\n",
       "    .dataframe tbody tr th:only-of-type {\n",
       "        vertical-align: middle;\n",
       "    }\n",
       "\n",
       "    .dataframe tbody tr th {\n",
       "        vertical-align: top;\n",
       "    }\n",
       "\n",
       "    .dataframe thead th {\n",
       "        text-align: right;\n",
       "    }\n",
       "</style>\n",
       "<table border=\"1\" class=\"dataframe\">\n",
       "  <thead>\n",
       "    <tr style=\"text-align: right;\">\n",
       "      <th></th>\n",
       "      <th>id</th>\n",
       "      <th>country</th>\n",
       "      <th>ccode</th>\n",
       "      <th>year</th>\n",
       "      <th>region</th>\n",
       "      <th>protest</th>\n",
       "      <th>protestnumber</th>\n",
       "      <th>startday</th>\n",
       "      <th>startmonth</th>\n",
       "      <th>startyear</th>\n",
       "      <th>...</th>\n",
       "      <th>protesterdemand4</th>\n",
       "      <th>stateresponse1</th>\n",
       "      <th>stateresponse2</th>\n",
       "      <th>stateresponse3</th>\n",
       "      <th>stateresponse4</th>\n",
       "      <th>stateresponse5</th>\n",
       "      <th>stateresponse6</th>\n",
       "      <th>stateresponse7</th>\n",
       "      <th>sources</th>\n",
       "      <th>notes</th>\n",
       "    </tr>\n",
       "  </thead>\n",
       "  <tbody>\n",
       "    <tr>\n",
       "      <th>0</th>\n",
       "      <td>201990001</td>\n",
       "      <td>Canada</td>\n",
       "      <td>20</td>\n",
       "      <td>1990</td>\n",
       "      <td>North America</td>\n",
       "      <td>1</td>\n",
       "      <td>1</td>\n",
       "      <td>15.0</td>\n",
       "      <td>1.0</td>\n",
       "      <td>1990.0</td>\n",
       "      <td>...</td>\n",
       "      <td>NaN</td>\n",
       "      <td>ignore</td>\n",
       "      <td>NaN</td>\n",
       "      <td>NaN</td>\n",
       "      <td>NaN</td>\n",
       "      <td>NaN</td>\n",
       "      <td>NaN</td>\n",
       "      <td>NaN</td>\n",
       "      <td>1. Great Canadian train journeys into history;...</td>\n",
       "      <td>Canada s railway passenger system was finally...</td>\n",
       "    </tr>\n",
       "    <tr>\n",
       "      <th>1</th>\n",
       "      <td>201990002</td>\n",
       "      <td>Canada</td>\n",
       "      <td>20</td>\n",
       "      <td>1990</td>\n",
       "      <td>North America</td>\n",
       "      <td>1</td>\n",
       "      <td>2</td>\n",
       "      <td>25.0</td>\n",
       "      <td>6.0</td>\n",
       "      <td>1990.0</td>\n",
       "      <td>...</td>\n",
       "      <td>NaN</td>\n",
       "      <td>ignore</td>\n",
       "      <td>NaN</td>\n",
       "      <td>NaN</td>\n",
       "      <td>NaN</td>\n",
       "      <td>NaN</td>\n",
       "      <td>NaN</td>\n",
       "      <td>NaN</td>\n",
       "      <td>1. Autonomy s Cry Revived in Quebec The New Yo...</td>\n",
       "      <td>protestors were only identified as  young peop...</td>\n",
       "    </tr>\n",
       "  </tbody>\n",
       "</table>\n",
       "<p>2 rows × 31 columns</p>\n",
       "</div>"
      ],
      "text/plain": [
       "          id country  ccode  year         region  protest  protestnumber  \\\n",
       "0  201990001  Canada     20  1990  North America        1              1   \n",
       "1  201990002  Canada     20  1990  North America        1              2   \n",
       "\n",
       "   startday  startmonth  startyear  ...  protesterdemand4  stateresponse1  \\\n",
       "0      15.0         1.0     1990.0  ...               NaN          ignore   \n",
       "1      25.0         6.0     1990.0  ...               NaN          ignore   \n",
       "\n",
       "   stateresponse2  stateresponse3 stateresponse4 stateresponse5  \\\n",
       "0             NaN             NaN            NaN            NaN   \n",
       "1             NaN             NaN            NaN            NaN   \n",
       "\n",
       "  stateresponse6 stateresponse7  \\\n",
       "0            NaN            NaN   \n",
       "1            NaN            NaN   \n",
       "\n",
       "                                             sources  \\\n",
       "0  1. Great Canadian train journeys into history;...   \n",
       "1  1. Autonomy s Cry Revived in Quebec The New Yo...   \n",
       "\n",
       "                                               notes  \n",
       "0   Canada s railway passenger system was finally...  \n",
       "1  protestors were only identified as  young peop...  \n",
       "\n",
       "[2 rows x 31 columns]"
      ]
     },
     "execution_count": 4,
     "metadata": {},
     "output_type": "execute_result"
    }
   ],
   "source": [
    "df = pd.read_csv('../data/mmALL_073119_csv.csv')\n",
    "df.head(2)"
   ]
  },
  {
   "cell_type": "code",
   "execution_count": 5,
   "metadata": {},
   "outputs": [
    {
     "name": "stdout",
     "output_type": "stream",
     "text": [
      "(16363, 31)\n"
     ]
    }
   ],
   "source": [
    "print(df.shape)"
   ]
  },
  {
   "cell_type": "code",
   "execution_count": 6,
   "metadata": {},
   "outputs": [],
   "source": [
    "# Data engineering: length of protests\n",
    "df['years'] = df['endyear'] - df['startyear']\n",
    "df['months'] = df['endmonth'] - df['startmonth']\n",
    "df['days'] = df['endday'] - df['startday']\n",
    "df['total_days'] = df['days'] + (df['months']*30.5) + (df['years']*365)"
   ]
  },
  {
   "cell_type": "code",
   "execution_count": 7,
   "metadata": {},
   "outputs": [],
   "source": [
    "categorical_columns = ['country', 'year', 'protest', 'protesterviolence',  'participants_category', 'protesterdemand1',\n",
    "       'protesterdemand2', 'protesterdemand3', 'protesterdemand4', 'stateresponse1', 'stateresponse2', 'stateresponse3', 'stateresponse4','stateresponse5', 'stateresponse6', 'stateresponse7']\n",
    "numerical_columns = ['startday', 'startmonth', 'startyear', 'endday', 'endmonth', 'endyear', 'years', 'total_days']\n",
    "\n",
    "id_columns = ['id','sources','notes', 'protesteridentity', 'location']"
   ]
  },
  {
   "cell_type": "code",
   "execution_count": 8,
   "metadata": {},
   "outputs": [],
   "source": [
    "for column in categorical_columns:\n",
    "    df[column].fillna('999', inplace=True)\n",
    "    df[column] = df[column].map(str)\n",
    "for column in numerical_columns:\n",
    "    df[column].fillna(999, inplace=True)"
   ]
  },
  {
   "cell_type": "code",
   "execution_count": 9,
   "metadata": {},
   "outputs": [],
   "source": [
    "sa_df = df[df['region'] == 'South America'].copy()"
   ]
  },
  {
   "cell_type": "code",
   "execution_count": 10,
   "metadata": {},
   "outputs": [],
   "source": [
    "sa_df = pd.get_dummies(sa_df, columns=['country', 'year', 'protest', 'protesterviolence',  'participants_category'], drop_first=True)"
   ]
  },
  {
   "cell_type": "code",
   "execution_count": 11,
   "metadata": {
    "scrolled": true
   },
   "outputs": [
    {
     "name": "stdout",
     "output_type": "stream",
     "text": [
      "(1653, 108)\n"
     ]
    }
   ],
   "source": [
    "protest_demands = ['protesterdemand1','protesterdemand2', 'protesterdemand3', 'protesterdemand4']\n",
    "sa_df = pd.get_dummies(sa_df, columns=protest_demands, prefix=\"dem\", drop_first=True)\n",
    "sa_df_total = cl.dummy_columns(sa_df)\n",
    "print(sa_df_total.shape)"
   ]
  },
  {
   "cell_type": "code",
   "execution_count": 12,
   "metadata": {},
   "outputs": [
    {
     "data": {
      "text/html": [
       "<div>\n",
       "<style scoped>\n",
       "    .dataframe tbody tr th:only-of-type {\n",
       "        vertical-align: middle;\n",
       "    }\n",
       "\n",
       "    .dataframe tbody tr th {\n",
       "        vertical-align: top;\n",
       "    }\n",
       "\n",
       "    .dataframe thead th {\n",
       "        text-align: right;\n",
       "    }\n",
       "</style>\n",
       "<table border=\"1\" class=\"dataframe\">\n",
       "  <thead>\n",
       "    <tr style=\"text-align: right;\">\n",
       "      <th></th>\n",
       "      <th>id</th>\n",
       "      <th>ccode</th>\n",
       "      <th>region</th>\n",
       "      <th>protestnumber</th>\n",
       "      <th>startday</th>\n",
       "      <th>startmonth</th>\n",
       "      <th>startyear</th>\n",
       "      <th>endday</th>\n",
       "      <th>endmonth</th>\n",
       "      <th>endyear</th>\n",
       "      <th>...</th>\n",
       "      <th>dem_land farm issue</th>\n",
       "      <th>999</th>\n",
       "      <th>accomodation</th>\n",
       "      <th>arrests</th>\n",
       "      <th>beatings</th>\n",
       "      <th>crowd dispersal</th>\n",
       "      <th>ignore</th>\n",
       "      <th>killings</th>\n",
       "      <th>shootings</th>\n",
       "      <th>.</th>\n",
       "    </tr>\n",
       "  </thead>\n",
       "  <tbody>\n",
       "    <tr>\n",
       "      <th>1044</th>\n",
       "      <td>1001990001</td>\n",
       "      <td>100</td>\n",
       "      <td>South America</td>\n",
       "      <td>1</td>\n",
       "      <td>13.0</td>\n",
       "      <td>2.0</td>\n",
       "      <td>1990.0</td>\n",
       "      <td>13.0</td>\n",
       "      <td>2.0</td>\n",
       "      <td>1990.0</td>\n",
       "      <td>...</td>\n",
       "      <td>0</td>\n",
       "      <td>6</td>\n",
       "      <td>0.0</td>\n",
       "      <td>0.0</td>\n",
       "      <td>0.0</td>\n",
       "      <td>0.0</td>\n",
       "      <td>1.0</td>\n",
       "      <td>0.0</td>\n",
       "      <td>0.0</td>\n",
       "      <td>0.0</td>\n",
       "    </tr>\n",
       "    <tr>\n",
       "      <th>1045</th>\n",
       "      <td>1001990002</td>\n",
       "      <td>100</td>\n",
       "      <td>South America</td>\n",
       "      <td>2</td>\n",
       "      <td>14.0</td>\n",
       "      <td>2.0</td>\n",
       "      <td>1990.0</td>\n",
       "      <td>15.0</td>\n",
       "      <td>2.0</td>\n",
       "      <td>1990.0</td>\n",
       "      <td>...</td>\n",
       "      <td>0</td>\n",
       "      <td>6</td>\n",
       "      <td>0.0</td>\n",
       "      <td>0.0</td>\n",
       "      <td>0.0</td>\n",
       "      <td>1.0</td>\n",
       "      <td>0.0</td>\n",
       "      <td>0.0</td>\n",
       "      <td>0.0</td>\n",
       "      <td>0.0</td>\n",
       "    </tr>\n",
       "  </tbody>\n",
       "</table>\n",
       "<p>2 rows × 108 columns</p>\n",
       "</div>"
      ],
      "text/plain": [
       "              id  ccode         region  protestnumber  startday  startmonth  \\\n",
       "1044  1001990001    100  South America              1      13.0         2.0   \n",
       "1045  1001990002    100  South America              2      14.0         2.0   \n",
       "\n",
       "      startyear  endday  endmonth  endyear  ... dem_land farm issue 999  \\\n",
       "1044     1990.0    13.0       2.0   1990.0  ...                   0   6   \n",
       "1045     1990.0    15.0       2.0   1990.0  ...                   0   6   \n",
       "\n",
       "     accomodation arrests beatings crowd dispersal ignore killings shootings  \\\n",
       "1044          0.0     0.0      0.0             0.0    1.0      0.0       0.0   \n",
       "1045          0.0     0.0      0.0             1.0    0.0      0.0       0.0   \n",
       "\n",
       "        .  \n",
       "1044  0.0  \n",
       "1045  0.0  \n",
       "\n",
       "[2 rows x 108 columns]"
      ]
     },
     "execution_count": 12,
     "metadata": {},
     "output_type": "execute_result"
    }
   ],
   "source": [
    "sa_df_total.head(2)"
   ]
  },
  {
   "cell_type": "code",
   "execution_count": 13,
   "metadata": {
    "scrolled": false
   },
   "outputs": [
    {
     "data": {
      "image/png": "[encoded data removed]",
      "text/plain": [
       "<Figure size 864x504 with 1 Axes>"
      ]
     },
     "metadata": {},
     "output_type": "display_data"
    }
   ],
   "source": [
    "sns.set()\n",
    "plt.figure(figsize=(12,7))\n",
    "sa_df['stateresponse1'].value_counts().plot.bar(cmap='viridis', fontsize=14)\n",
    "plt.xticks(rotation = 30)\n",
    "plt.ylabel('Count', fontsize=14)\n",
    "plt.title('State Response Counts', fontsize=28);"
   ]
  },
  {
   "cell_type": "code",
   "execution_count": 14,
   "metadata": {},
   "outputs": [
    {
     "data": {
      "text/plain": [
       "0    1474\n",
       "1     179\n",
       "Name: accomodation, dtype: int64"
      ]
     },
     "execution_count": 14,
     "metadata": {},
     "output_type": "execute_result"
    }
   ],
   "source": [
    "sa_df_total['accomodation'] = sa_df_total['accomodation'].map(lambda x: 1 if x>0 else 0)\n",
    "sa_df_total['accomodation'].value_counts()"
   ]
  },
  {
   "cell_type": "code",
   "execution_count": 15,
   "metadata": {
    "scrolled": true
   },
   "outputs": [
    {
     "data": {
      "text/plain": [
       "0    0.891712\n",
       "1    0.108288\n",
       "Name: accomodation, dtype: float64"
      ]
     },
     "execution_count": 15,
     "metadata": {},
     "output_type": "execute_result"
    }
   ],
   "source": [
    "sa_df_total['accomodation'].value_counts(normalize=True)"
   ]
  },
  {
   "cell_type": "code",
   "execution_count": 16,
   "metadata": {},
   "outputs": [],
   "source": [
    "drop = ['id', 'ccode', 'region', 'startday',\n",
    "       'endday', 'endmonth', 'location', 'participants', 'protesteridentity', 'stateresponse1', 'stateresponse2',\n",
    "       'stateresponse3', 'stateresponse4', 'stateresponse5', 'stateresponse6',\n",
    "       'stateresponse7', 'sources', 'notes', '.', '999',\n",
    "       'accomodation', 'arrests', 'beatings', 'crowd dispersal', 'ignore',\n",
    "       'killings', 'shootings','years','months','days']\n",
    "\n",
    "X = sa_df_total.drop(columns = drop)\n",
    "y = sa_df_total['accomodation']\n",
    "X_train_sc, X_test_sc, y_train, y_test = cl.split_scale(X, y)"
   ]
  },
  {
   "cell_type": "markdown",
   "metadata": {},
   "source": [
    "## Binary classification of accomodations in state response"
   ]
  },
  {
   "cell_type": "code",
   "execution_count": 17,
   "metadata": {},
   "outputs": [
    {
     "name": "stdout",
     "output_type": "stream",
     "text": [
      "LogisticRegression() train score Accuracy: 0.9071832122679581\n",
      "LogisticRegression() test score Accuracy: 0.8719806763285024\n"
     ]
    }
   ],
   "source": [
    "logreg_bin = LogisticRegression()\n",
    "cl.scoring_class(logreg_bin, X_train_sc, y_train, X_test_sc, y_test)"
   ]
  },
  {
   "cell_type": "code",
   "execution_count": 18,
   "metadata": {},
   "outputs": [
    {
     "name": "stdout",
     "output_type": "stream",
     "text": [
      "Specificity: 0.9728997289972899\n",
      "Sensitivity: 0.044444444444444446\n",
      "Precision:   0.16666666666666666\n"
     ]
    }
   ],
   "source": [
    "cl.con_mets(logreg_bin, X_test_sc, y_test)"
   ]
  },
  {
   "cell_type": "code",
   "execution_count": 19,
   "metadata": {
    "scrolled": true
   },
   "outputs": [
    {
     "data": {
      "image/png": "[encoded data removed]",
      "text/plain": [
       "<Figure size 432x288 with 1 Axes>"
      ]
     },
     "metadata": {},
     "output_type": "display_data"
    }
   ],
   "source": [
    "cl.roc_curve(logreg_bin, 'Logistic Regression ROC Curve', X_test_sc, y_test)"
   ]
  },
  {
   "cell_type": "code",
   "execution_count": 20,
   "metadata": {},
   "outputs": [
    {
     "name": "stdout",
     "output_type": "stream",
     "text": [
      "KNeighborsClassifier() train score Accuracy: 0.9063761097659403\n",
      "KNeighborsClassifier() test score Accuracy: 0.8599033816425121\n",
      "Specificity: 0.962059620596206\n",
      "Sensitivity: 0.022222222222222223\n",
      "Precision:   0.06666666666666667\n"
     ]
    }
   ],
   "source": [
    "knn_bin = KNeighborsClassifier()\n",
    "cl.scoring_class(knn_bin, X_train_sc, y_train, X_test_sc, y_test)\n",
    "cl.con_mets(knn_bin, X_test_sc, y_test)"
   ]
  },
  {
   "cell_type": "code",
   "execution_count": 21,
   "metadata": {},
   "outputs": [
    {
     "name": "stdout",
     "output_type": "stream",
     "text": [
      "DecisionTreeClassifier() train score Accuracy: 1.0\n",
      "DecisionTreeClassifier() test score Accuracy: 0.857487922705314\n",
      "Specificity: 0.924119241192412\n",
      "Sensitivity: 0.3111111111111111\n",
      "Precision:   0.3333333333333333\n"
     ]
    }
   ],
   "source": [
    "dt_bin = DecisionTreeClassifier()\n",
    "cl.scoring_class(dt_bin, X_train_sc, y_train, X_test_sc, y_test)\n",
    "cl.con_mets(dt_bin, X_test_sc, y_test)"
   ]
  },
  {
   "cell_type": "code",
   "execution_count": 22,
   "metadata": {},
   "outputs": [
    {
     "name": "stdout",
     "output_type": "stream",
     "text": [
      "RandomForestClassifier() train score Accuracy: 1.0\n",
      "RandomForestClassifier() test score Accuracy: 0.8913043478260869\n",
      "Specificity: 0.978319783197832\n",
      "Sensitivity: 0.17777777777777778\n",
      "Precision:   0.5\n"
     ]
    }
   ],
   "source": [
    "rf_bin = RandomForestClassifier()\n",
    "cl.scoring_class(rf_bin, X_train_sc, y_train, X_test_sc, y_test)\n",
    "cl.con_mets(rf_bin, X_test_sc, y_test)"
   ]
  },
  {
   "cell_type": "code",
   "execution_count": 23,
   "metadata": {},
   "outputs": [
    {
     "name": "stdout",
     "output_type": "stream",
     "text": [
      "BaggingClassifier() train score Accuracy: 0.9903147699757869\n",
      "BaggingClassifier() test score Accuracy: 0.8768115942028986\n",
      "Specificity: 0.959349593495935\n",
      "Sensitivity: 0.2\n",
      "Precision:   0.375\n"
     ]
    }
   ],
   "source": [
    "bdt_bin = BaggingClassifier()\n",
    "cl.scoring_class(bdt_bin, X_train_sc, y_train, X_test_sc, y_test)\n",
    "cl.con_mets(bdt_bin, X_test_sc, y_test)"
   ]
  },
  {
   "cell_type": "code",
   "execution_count": 24,
   "metadata": {},
   "outputs": [
    {
     "name": "stdout",
     "output_type": "stream",
     "text": [
      "AdaBoostClassifier() train score Accuracy: 0.9128329297820823\n",
      "AdaBoostClassifier() test score Accuracy: 0.8743961352657005\n",
      "Specificity: 0.948509485094851\n",
      "Sensitivity: 0.26666666666666666\n",
      "Precision:   0.3870967741935484\n"
     ]
    }
   ],
   "source": [
    "ada_bin = AdaBoostClassifier()\n",
    "cl.scoring_class(ada_bin, X_train_sc, y_train, X_test_sc, y_test)\n",
    "cl.con_mets(ada_bin, X_test_sc, y_test)"
   ]
  },
  {
   "cell_type": "code",
   "execution_count": 25,
   "metadata": {
    "scrolled": true
   },
   "outputs": [
    {
     "name": "stdout",
     "output_type": "stream",
     "text": [
      "SVC() train score Accuracy: 0.9023405972558515\n",
      "SVC() test score Accuracy: 0.8913043478260869\n",
      "Specificity: 1.0\n",
      "Sensitivity: 0.0\n",
      "Precision:   nan\n"
     ]
    },
    {
     "name": "stderr",
     "output_type": "stream",
     "text": [
      "/Users/jenniferwilliamson/DSI/projects/Group_Project_Boo-Leans/code/classification.py:69: RuntimeWarning: invalid value encountered in long_scalars\n",
      "  print(f'Precision:   {tp / (tp + fp)}')\n"
     ]
    }
   ],
   "source": [
    "svm_bin = SVC()\n",
    "cl.scoring_class(svm_bin, X_train_sc, y_train, X_test_sc, y_test)\n",
    "cl.con_mets(svm_bin, X_test_sc, y_test)"
   ]
  },
  {
   "cell_type": "markdown",
   "metadata": {},
   "source": [
    "Almost all of the models above are overfit except K Nearest Neighbors and Support Vector Machine. Additionally, None of them have an improvement over baseline in predicting accomodations. Furthermore in most cases the model seems to have similar scores to baseline because the models tend to over predict \"no accomodations.\" "
   ]
  },
  {
   "cell_type": "code",
   "execution_count": 26,
   "metadata": {},
   "outputs": [
    {
     "data": {
      "image/png": "[encoded data removed]",
      "text/plain": [
       "<Figure size 432x288 with 2 Axes>"
      ]
     },
     "metadata": {},
     "output_type": "display_data"
    }
   ],
   "source": [
    "cl.con_plot(svm_bin, X_test_sc, y_test, 'Support Vector Machine')"
   ]
  },
  {
   "cell_type": "code",
   "execution_count": 27,
   "metadata": {},
   "outputs": [
    {
     "name": "stdout",
     "output_type": "stream",
     "text": [
      "Fitting 5 folds for each of 27 candidates, totalling 135 fits\n"
     ]
    },
    {
     "name": "stderr",
     "output_type": "stream",
     "text": [
      "[Parallel(n_jobs=1)]: Using backend SequentialBackend with 1 concurrent workers.\n",
      "[Parallel(n_jobs=1)]: Done 135 out of 135 | elapsed:   44.0s finished\n"
     ]
    },
    {
     "name": "stdout",
     "output_type": "stream",
     "text": [
      "{'model__learning_rate': 0.5, 'model__n_estimators': 60, 'pc__n_components': 10}\n",
      "0.8926635758129816\n",
      "0.8792270531400966\n"
     ]
    }
   ],
   "source": [
    "pipe_ada = Pipeline([\n",
    "    ('pc',PCA()),\n",
    "    ('model',AdaBoostClassifier())\n",
    "])\n",
    "ada_params = {'pc__n_components':[10,15,20],\n",
    "              'model__n_estimators':[40,50,60],\n",
    "             'model__learning_rate':[0.5,1,1.5]}\n",
    "ada_grid_bin = GridSearchCV(pipe_ada,\n",
    "                     ada_params,\n",
    "                     cv=5,\n",
    "                     verbose=1)\n",
    "ada_grid_bin.fit(X_train_sc, y_train)\n",
    "print(ada_grid_bin.best_params_)\n",
    "print(ada_grid_bin.best_score_)\n",
    "print(ada_grid_bin.score(X_test_sc, y_test))"
   ]
  },
  {
   "cell_type": "code",
   "execution_count": 28,
   "metadata": {
    "scrolled": true
   },
   "outputs": [
    {
     "name": "stdout",
     "output_type": "stream",
     "text": [
      "Fitting 5 folds for each of 18 candidates, totalling 90 fits\n"
     ]
    },
    {
     "name": "stderr",
     "output_type": "stream",
     "text": [
      "[Parallel(n_jobs=1)]: Using backend SequentialBackend with 1 concurrent workers.\n"
     ]
    },
    {
     "name": "stdout",
     "output_type": "stream",
     "text": [
      "{'model__C': 0.01, 'model__degree': 3, 'pc__n_components': 10}\n",
      "0.8918505942275041\n",
      "0.8913043478260869\n"
     ]
    },
    {
     "name": "stderr",
     "output_type": "stream",
     "text": [
      "[Parallel(n_jobs=1)]: Done  90 out of  90 | elapsed:    3.9s finished\n"
     ]
    }
   ],
   "source": [
    "pipe_bag = Pipeline([\n",
    "    ('pc',PCA()),\n",
    "    ('model',SVC())\n",
    "])\n",
    "svc_params = {'pc__n_components':[10,15,20],\n",
    "              'model__C':[0.01,0.05],\n",
    "             'model__degree':[3,4,5]}\n",
    "svc_grid_bin = GridSearchCV(pipe_bag,\n",
    "                     svc_params,\n",
    "                     cv=5,\n",
    "                     verbose=1)\n",
    "svc_grid_bin.fit(X_train_sc, y_train)\n",
    "print(svc_grid_bin.best_params_)\n",
    "print(svc_grid_bin.best_score_)\n",
    "print(svc_grid_bin.score(X_test_sc, y_test))"
   ]
  },
  {
   "cell_type": "code",
   "execution_count": 29,
   "metadata": {},
   "outputs": [
    {
     "name": "stdout",
     "output_type": "stream",
     "text": [
      "Specificity: 1.0\n",
      "Sensitivity: 0.0\n",
      "Precision:   nan\n"
     ]
    },
    {
     "name": "stderr",
     "output_type": "stream",
     "text": [
      "/Users/jenniferwilliamson/DSI/projects/Group_Project_Boo-Leans/code/classification.py:69: RuntimeWarning: invalid value encountered in long_scalars\n",
      "  print(f'Precision:   {tp / (tp + fp)}')\n"
     ]
    }
   ],
   "source": [
    "cl.con_mets(svc_grid_bin, X_test_sc, y_test)"
   ]
  },
  {
   "cell_type": "markdown",
   "metadata": {},
   "source": [
    "Grid searching over these models improved adaboost slightly but overall the socre is not improved over baseline."
   ]
  },
  {
   "cell_type": "markdown",
   "metadata": {},
   "source": [
    "## Multiclass classification of state response"
   ]
  },
  {
   "cell_type": "code",
   "execution_count": 30,
   "metadata": {},
   "outputs": [
    {
     "data": {
      "text/plain": [
       "ignore             892\n",
       "crowd dispersal    405\n",
       "accomodation       123\n",
       "arrests            118\n",
       "999                 58\n",
       "killings            39\n",
       "shootings           14\n",
       "beatings             4\n",
       "Name: stateresponse1, dtype: int64"
      ]
     },
     "execution_count": 30,
     "metadata": {},
     "output_type": "execute_result"
    }
   ],
   "source": [
    "y_m = sa_df['stateresponse1']\n",
    "y_m.value_counts()"
   ]
  },
  {
   "cell_type": "code",
   "execution_count": 31,
   "metadata": {},
   "outputs": [
    {
     "data": {
      "text/plain": [
       "0      892\n",
       "1      405\n",
       "2      123\n",
       "3      118\n",
       "999     58\n",
       "4       57\n",
       "Name: stateresponse1, dtype: int64"
      ]
     },
     "execution_count": 31,
     "metadata": {},
     "output_type": "execute_result"
    }
   ],
   "source": [
    "#Combine the 3 most violent categories as there seems to be little difference\n",
    "y_m = y_m.map(str)\n",
    "y_m = y_m.map({'ignore': 0, 'crowd dispersal': 1, 'accomodation': 2, 'arrests': 3, 'killings': 4, 'shootings': 4, 'beatings': 4, '999': 999})\n",
    "y_m.value_counts()"
   ]
  },
  {
   "cell_type": "code",
   "execution_count": 32,
   "metadata": {},
   "outputs": [],
   "source": [
    "X_train_sc, X_test_sc, y_train_m, y_test_m = cl.split_scale(X, y_m)"
   ]
  },
  {
   "cell_type": "code",
   "execution_count": 33,
   "metadata": {},
   "outputs": [
    {
     "name": "stdout",
     "output_type": "stream",
     "text": [
      "LogisticRegression() train score Accuracy: 0.7134786117836965\n",
      "LogisticRegression() test score Accuracy: 0.6521739130434783\n"
     ]
    },
    {
     "name": "stderr",
     "output_type": "stream",
     "text": [
      "/Users/jenniferwilliamson/opt/anaconda3/lib/python3.8/site-packages/sklearn/linear_model/_logistic.py:762: ConvergenceWarning: lbfgs failed to converge (status=1):\n",
      "STOP: TOTAL NO. of ITERATIONS REACHED LIMIT.\n",
      "\n",
      "Increase the number of iterations (max_iter) or scale the data as shown in:\n",
      "    https://scikit-learn.org/stable/modules/preprocessing.html\n",
      "Please also refer to the documentation for alternative solver options:\n",
      "    https://scikit-learn.org/stable/modules/linear_model.html#logistic-regression\n",
      "  n_iter_i = _check_optimize_result(\n"
     ]
    }
   ],
   "source": [
    "logreg_m = LogisticRegression()\n",
    "cl.scoring_class(logreg_m, X_train_sc, y_train_m, X_test_sc, y_test_m)"
   ]
  },
  {
   "cell_type": "code",
   "execution_count": 34,
   "metadata": {},
   "outputs": [
    {
     "name": "stdout",
     "output_type": "stream",
     "text": [
      "KNeighborsClassifier() train score Accuracy: 0.7021791767554479\n",
      "KNeighborsClassifier() test score Accuracy: 0.5676328502415459\n"
     ]
    }
   ],
   "source": [
    "knn_m = KNeighborsClassifier()\n",
    "cl.scoring_class(knn_m, X_train_sc, y_train_m, X_test_sc, y_test_m)"
   ]
  },
  {
   "cell_type": "code",
   "execution_count": 35,
   "metadata": {},
   "outputs": [
    {
     "name": "stdout",
     "output_type": "stream",
     "text": [
      "SVC() train score Accuracy: 0.7376916868442293\n",
      "SVC() test score Accuracy: 0.6521739130434783\n"
     ]
    }
   ],
   "source": [
    "svm_m = SVC()\n",
    "cl.scoring_class(svm_m, X_train_sc, y_train_m, X_test_sc, y_test_m)"
   ]
  },
  {
   "cell_type": "code",
   "execution_count": 36,
   "metadata": {},
   "outputs": [
    {
     "name": "stdout",
     "output_type": "stream",
     "text": [
      "DecisionTreeClassifier() train score Accuracy: 1.0\n",
      "DecisionTreeClassifier() test score Accuracy: 0.5748792270531401\n"
     ]
    }
   ],
   "source": [
    "dt_m = DecisionTreeClassifier()\n",
    "cl.scoring_class(dt_m, X_train_sc, y_train_m, X_test_sc, y_test_m)"
   ]
  },
  {
   "cell_type": "code",
   "execution_count": 37,
   "metadata": {},
   "outputs": [
    {
     "name": "stdout",
     "output_type": "stream",
     "text": [
      "BaggingClassifier() train score Accuracy: 0.9725585149313963\n",
      "BaggingClassifier() test score Accuracy: 0.642512077294686\n"
     ]
    }
   ],
   "source": [
    "bdt_m = BaggingClassifier()\n",
    "cl.scoring_class(bdt_m, X_train_sc, y_train_m, X_test_sc, y_test_m)"
   ]
  },
  {
   "cell_type": "code",
   "execution_count": 38,
   "metadata": {},
   "outputs": [
    {
     "name": "stdout",
     "output_type": "stream",
     "text": [
      "RandomForestClassifier() train score Accuracy: 1.0\n",
      "RandomForestClassifier() test score Accuracy: 0.6521739130434783\n"
     ]
    }
   ],
   "source": [
    "rf_m = RandomForestClassifier()\n",
    "cl.scoring_class(rf_m, X_train_sc, y_train_m, X_test_sc, y_test_m)"
   ]
  },
  {
   "cell_type": "code",
   "execution_count": 39,
   "metadata": {
    "scrolled": false
   },
   "outputs": [
    {
     "name": "stdout",
     "output_type": "stream",
     "text": [
      "AdaBoostClassifier() train score Accuracy: 0.483454398708636\n",
      "AdaBoostClassifier() test score Accuracy: 0.5265700483091788\n"
     ]
    }
   ],
   "source": [
    "ada_m = AdaBoostClassifier()\n",
    "cl.scoring_class(ada_m, X_train_sc, y_train_m, X_test_sc, y_test_m)"
   ]
  },
  {
   "cell_type": "markdown",
   "metadata": {},
   "source": [
    "While many of these models are much worse that the binary classification however Logistic regression was able to get a better accuracy than baseline and many of the others show some promise given some regulation."
   ]
  },
  {
   "cell_type": "code",
   "execution_count": 40,
   "metadata": {
    "scrolled": true
   },
   "outputs": [
    {
     "name": "stdout",
     "output_type": "stream",
     "text": [
      "Fitting 5 folds for each of 18 candidates, totalling 90 fits\n"
     ]
    },
    {
     "name": "stderr",
     "output_type": "stream",
     "text": [
      "[Parallel(n_jobs=1)]: Using backend SequentialBackend with 1 concurrent workers.\n"
     ]
    },
    {
     "name": "stdout",
     "output_type": "stream",
     "text": [
      "{'model__C': 0.05, 'model__degree': 4, 'pc__n_components': 10}\n",
      "0.5536763745592268\n",
      "0.5531400966183575\n"
     ]
    },
    {
     "name": "stderr",
     "output_type": "stream",
     "text": [
      "[Parallel(n_jobs=1)]: Done  90 out of  90 | elapsed:    8.6s finished\n"
     ]
    }
   ],
   "source": [
    "pipe_bag = Pipeline([\n",
    "    ('pc',PCA()),\n",
    "    ('model',SVC())\n",
    "])\n",
    "svc_params = {'pc__n_components':[10,15,20],\n",
    "              'model__C':[0.01,0.05],\n",
    "             'model__degree':[3,4,5]}\n",
    "svc_grid_bin = GridSearchCV(pipe_bag,\n",
    "                     svc_params,\n",
    "                     cv=5,\n",
    "                     verbose=1)\n",
    "svc_grid_bin.fit(X_train_sc, y_train_m)\n",
    "print(svc_grid_bin.best_params_)\n",
    "print(svc_grid_bin.best_score_)\n",
    "print(svc_grid_bin.score(X_test_sc, y_test_m))"
   ]
  },
  {
   "cell_type": "code",
   "execution_count": null,
   "metadata": {},
   "outputs": [],
   "source": []
  }
 ],
 "metadata": {
  "kernelspec": {
   "display_name": "Python 3",
   "language": "python",
   "name": "python3"
  },
  "language_info": {
   "codemirror_mode": {
    "name": "ipython",
    "version": 3
   },
   "file_extension": ".py",
   "mimetype": "text/x-python",
   "name": "python",
   "nbconvert_exporter": "python",
   "pygments_lexer": "ipython3",
   "version": "3.8.3"
  }
 },
 "nbformat": 4,
 "nbformat_minor": 2
}
